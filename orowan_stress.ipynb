{
 "cells": [
  {
   "cell_type": "markdown",
   "metadata": {},
   "source": [
    "# Estimation of Orowan Stress"
   ]
  },
  {
   "cell_type": "code",
   "execution_count": 2,
   "metadata": {},
   "outputs": [],
   "source": [
    "import math\n",
    "import os\n",
    "import sys\n",
    "import numpy as np\n",
    "import pandas as pd\n",
    "import sympy as sym\n",
    "import matplotlib.pyplot as plt\n",
    "from scipy.optimize import curve_fit\n",
    "from matplotlib.ticker import FormatStrFormatter\n",
    "from scipy.interpolate import InterpolatedUnivariateSpline\n",
    "from scipy import interpolate\n",
    "from scipy.interpolate import splrep, splev\n",
    "from scipy.interpolate import make_interp_spline, BSpline\n",
    "import os, io, sys, time, shutil\n",
    "\n",
    "# find current directory\n",
    "if __name__ == \"__main__\":\n",
    "    path = os.getcwd()\n",
    "#    print(path)"
   ]
  },
  {
   "cell_type": "code",
   "execution_count": 3,
   "metadata": {},
   "outputs": [],
   "source": [
    "plt.rcParams['font.family'] = \"sans-serif\"\n",
    "plt.rcParams['font.sans-serif'] = \"arial\"\n",
    "# plt.rcParams['mathtext.fontset'] = \"stixsans\" # can be cm='computer modern', stix = 'stix' (times), stixsans= 'stix sans-serif'\n",
    "# stixsans has bold greek and can be done as \"\\mathbf{\\sigma}\"\n",
    "plt.rcParams['mathtext.fontset'] = 'custom'\n",
    "plt.rcParams['mathtext.it'] = 'Arial:italic'\n",
    "plt.rcParams['mathtext.bf'] = 'Arial:bold'\n",
    "plt.rcParams['mathtext.sf'] = 'Arial:bold:italic'\n",
    "\n",
    "# sys.path.append('/home/timi/Documents/mfm_packages/memer/memer')\n",
    "sys.path.append('/Users/sbharech/utilities/memer') # While using sbharech@Macbook14\n",
    "# sys.path.append('D:\\Python\\essences\\common')\n",
    "#from plot_essences import simple_plot_init, simple_twinx_plot_init, tablelegend\n",
    "from plot_essentials import *"
   ]
  },
  {
   "cell_type": "code",
   "execution_count": 4,
   "metadata": {},
   "outputs": [],
   "source": [
    "def interparticle_spacing(avg_diameter, vol_frac): \n",
    "    \"\"\"\n",
    "    Source: Equation 2 from WIlms et al. 2023 (check AM_ODS_review.pdf)\n",
    "    To calculate the interparticle spacing (L) with the given: \n",
    "        1. Avg_diameter: average diameter of the particles (d_p)\n",
    "        2. vol_frac: volume fraction of the particles (v_p)\n",
    "    \"\"\"\n",
    "    L = np.sqrt(2/3) * avg_diameter * np.sqrt((np.pi/(4*vol_frac))-1)\n",
    "    return L\n",
    "\n",
    "def vol_fraction(avg_diameter, int_sp):\n",
    "    '''To calculate volume fraction from L and d_p'''\n",
    "    vol_frac = ((np.pi)/2)*(pow(avg_diameter,2)/((3*pow(int_sp,2))+(2*pow(avg_diameter, 2))))\n",
    "    return vol_frac"
   ]
  },
  {
   "cell_type": "markdown",
   "metadata": {},
   "source": [
    "### alternate formulation to calculate interparticle spacing\n",
    "Suggested by C. Kenel et al. Additive manufacturing 47 (2021) 102224\n",
    "\n",
    "$$\n",
    "L = \\left( \\left(\\frac{3 \\pi}{4\\phi}\\right)^{1/2} - 1.64 \\right) d_p\n",
    "$$"
   ]
  },
  {
   "cell_type": "code",
   "execution_count": 4,
   "metadata": {},
   "outputs": [],
   "source": [
    "def intpart_spacing_kenel(avg_diameter, vol_frac):\n",
    "    '''Kenel et al'''\n",
    "    L = (np.sqrt((3*np.pi)/(4*vol_frac)) - 1.64)* avg_diameter\n",
    "    return L"
   ]
  },
  {
   "cell_type": "code",
   "execution_count": 5,
   "metadata": {},
   "outputs": [
    {
     "data": {
      "text/plain": [
       "3.141592653589793"
      ]
     },
     "metadata": {},
     "output_type": "display_data"
    },
    {
     "data": {
      "text/plain": [
       "1.0"
      ]
     },
     "metadata": {},
     "output_type": "display_data"
    }
   ],
   "source": [
    "display(np.pi)\n",
    "display(np.log(np.e))"
   ]
  },
  {
   "cell_type": "code",
   "execution_count": 6,
   "metadata": {},
   "outputs": [
    {
     "data": {
      "text/plain": [
       "0.08046768803218253"
      ]
     },
     "metadata": {},
     "output_type": "display_data"
    }
   ],
   "source": [
    "d_p = 60\n",
    "L = 145\n",
    "v_p = vol_fraction(d_p, L)\n",
    "display(v_p)"
   ]
  },
  {
   "cell_type": "code",
   "execution_count": 5,
   "metadata": {},
   "outputs": [
    {
     "data": {
      "text/plain": [
       "63.75400981659932"
      ]
     },
     "metadata": {},
     "output_type": "display_data"
    },
    {
     "data": {
      "text/plain": [
       "125.42523522967517"
      ]
     },
     "metadata": {},
     "output_type": "display_data"
    }
   ],
   "source": [
    "# d_p = 25.8\n",
    "d_p = 6.25 # nm\n",
    "v_p = 0.005\n",
    "L = interparticle_spacing(d_p, v_p)\n",
    "L_k = intpart_spacing_kenel(d_p, v_p)\n",
    "display(L)\n",
    "display(L_k)"
   ]
  },
  {
   "cell_type": "code",
   "execution_count": 6,
   "metadata": {},
   "outputs": [],
   "source": [
    "def orowan_stress(L, d_p):\n",
    "    \"\"\"\n",
    "    To calculate Orowan stress using the following inputs:\n",
    "        1. M : Taylor factor\n",
    "        2. nu: Poisson's ratio\n",
    "        3. G : Shear modulus\n",
    "        4. b : Burgers vector\n",
    "        5. L : interparticle spacing\n",
    "        6. d_p: Avg particle diameter\n",
    "    \"\"\"\n",
    "    M = 3.06\n",
    "    nu = 0.34\n",
    "    G = 82500 #MPa\n",
    "    b = 0.248\n",
    "    sig_or = (0.4* M/(np.pi*np.sqrt(1-nu)))*(G*b/L)*np.log((np.sqrt(2/3)*d_p)/b)\n",
    "    return sig_or"
   ]
  },
  {
   "cell_type": "code",
   "execution_count": 9,
   "metadata": {},
   "outputs": [],
   "source": [
    "M = 3.06\n",
    "nu = 0.34\n",
    "G = 82500 #MPa\n",
    "b = 0.248\n",
    "\n",
    "df = pd.read_csv('Orowan_data_PBF_probes_L_d.csv')\n",
    "\n",
    "L_p1 = df['avg_intparticle_dist'].iloc[0] #2130.37182268694\n",
    "L_p2 = df['avg_intparticle_dist'].iloc[1] #3601.15351981705\n",
    "L_p3 = df['avg_intparticle_dist'].iloc[2] #12.3664421184676\n",
    "L_p4 = df['avg_intparticle_dist'].iloc[3] #18.2447678131403\n",
    "L_p5 = df['avg_intparticle_dist'].iloc[4] #5689.62742241702\n",
    "\n",
    "d_p_p1 = df['avg_dispersoid_diameter'].iloc[0] #11.2711992407958\n",
    "d_p_p2 = df['avg_dispersoid_diameter'].iloc[1] #11.2664679317269\n",
    "d_p_p3 = df['avg_dispersoid_diameter'].iloc[2] #10.8768369918699\n",
    "d_p_p4 = df['avg_dispersoid_diameter'].iloc[3] #10.8729360268199\n",
    "d_p_p5 = df['avg_dispersoid_diameter'].iloc[4] #10.909848015288\n",
    "\n",
    "P1_OR = orowan_stress(L_p1, d_p_p1)\n",
    "P2_OR = orowan_stress(L_p2, d_p_p2)\n",
    "P3_OR = orowan_stress(L_p3, d_p_p3)\n",
    "P4_OR = orowan_stress(L_p4, d_p_p4)\n",
    "P5_OR = orowan_stress(L_p5, d_p_p5)\n",
    "\n",
    "OR = [P1_OR, P2_OR, P3_OR, P4_OR, P5_OR]\n"
   ]
  },
  {
   "cell_type": "markdown",
   "metadata": {},
   "source": [
    "### Influence of $L$ and $d_p$ on Orowan stress"
   ]
  },
  {
   "cell_type": "code",
   "execution_count": null,
   "metadata": {},
   "outputs": [],
   "source": [
    "# plot Orowan stress as a function of interparticle spacing\n",
    "plt.figure(figsize=(8, 6))\n",
    "L = np.linspace(0, 6000, 100) # interparticle spacing range from 0 to 6000 nm\n",
    "plt.plot(L, orowan_stress(L, d_p), label='Orowan Stress', color='blue')\n"
   ]
  },
  {
   "cell_type": "code",
   "execution_count": 1,
   "metadata": {},
   "outputs": [
    {
     "ename": "NameError",
     "evalue": "name 'd_p' is not defined",
     "output_type": "error",
     "traceback": [
      "\u001b[0;31m---------------------------------------------------------------------------\u001b[0m",
      "\u001b[0;31mNameError\u001b[0m                                 Traceback (most recent call last)",
      "Cell \u001b[0;32mIn[1], line 1\u001b[0m\n\u001b[0;32m----> 1\u001b[0m display(d_p)\n",
      "\u001b[0;31mNameError\u001b[0m: name 'd_p' is not defined"
     ]
    }
   ],
   "source": [
    "display(d_p)"
   ]
  },
  {
   "cell_type": "markdown",
   "metadata": {},
   "source": [
    "## Orowan stress (PBF): using numerically obatined values of d and L"
   ]
  },
  {
   "cell_type": "code",
   "execution_count": 13,
   "metadata": {},
   "outputs": [
    {
     "name": "stdout",
     "output_type": "stream",
     "text": [
      "   Probe  Orowan_Stress\n",
      "0  P1_OR      68.220164\n",
      "1  P2_OR     112.095877\n",
      "2  P3_OR     209.605063\n",
      "3  P4_OR     113.635509\n",
      "4  P5_OR     179.088491\n"
     ]
    }
   ],
   "source": [
    "# Load data\n",
    "df = pd.read_csv('Orowan_data_PBF_probes_L_d.csv')\n",
    "\n",
    "# Apply orowan_stress function for each row in the DataFrame\n",
    "# iterrows(): This iterates over each row in the DataFrame, providing access to each avg_intparticle_dist and avg_dispersoid_diameter\n",
    "orowan_stresses = [ orowan_stress(row['avg_intparticle_dist'], row['avg_dispersoid_diameter']) for _, row in df.iterrows()]\n",
    "\n",
    "# If needed, you can store the results in a DataFrame or dictionary for easy access\n",
    "# You can optionally store the output in a DataFrame for easy reference\n",
    "results_df = pd.DataFrame({\n",
    "    'Probe': [f'P{i+1}_OR' for i in range(len(orowan_stresses))],\n",
    "    'Orowan_Stress': orowan_stresses\n",
    "})\n",
    "\n",
    "print(results_df)"
   ]
  },
  {
   "cell_type": "code",
   "execution_count": null,
   "metadata": {},
   "outputs": [
    {
     "name": "stdout",
     "output_type": "stream",
     "text": [
      "[68.22016427486251, 112.09587707525188, 209.60506341516964, 113.63550934309713, 179.0884905059142]\n"
     ]
    },
    {
     "data": {
      "image/png": "[encoded data removed]",
      "text/plain": [
       "<Figure size 600x600 with 1 Axes>"
      ]
     },
     "metadata": {},
     "output_type": "display_data"
    }
   ],
   "source": [
    "# Plot\n",
    "\n",
    "fig, ax = simple_plot_init([r'Region',r'Orowan Strengthening (MPa)'], figsize = [4,4], dpi=150)\n",
    "colors = ['red', 'orange', 'green', 'blue', 'purple']\n",
    "\n",
    "ax.bar(range(1, 6), results_df['Orowan_Stress'], tick_label=[\"P1\", \"P2\", \"P3\", \"P4\", \"P5\"], color = colors, edgecolor='black', linewidth=0.7)\n",
    "\n",
    "# edgecolor='black', linewidth=0.7, label = 'Non-aggl. NP')\n",
    "#plt.ylim([9,11.55])\n",
    "\n",
    "# ax.set_yscale('log')\n",
    "plt.xticks(range(1, 6))  # Set major ticks at positions 1 to 5\n",
    "plt.tick_params(axis='x', which='minor', length=0)  \n",
    "\n",
    "#fig.savefig(\"fig_DED_NPT_inclusion_size.pdf\", format=\"pdf\", bbox_inches='tight')\n",
    "\n",
    "print(OR)"
   ]
  },
  {
   "cell_type": "markdown",
   "metadata": {},
   "source": [
    "## Orowan stress (DED): using numerically obatined values of d and L"
   ]
  },
  {
   "cell_type": "code",
   "execution_count": 7,
   "metadata": {},
   "outputs": [
    {
     "name": "stdout",
     "output_type": "stream",
     "text": [
      "   Probe  Orowan_Stress\n",
      "0  P1_OR      16.644827\n",
      "1  P2_OR       9.845609\n",
      "2  P3_OR    2839.151873\n",
      "3  P4_OR       6.176141\n",
      "4  P5_OR    1924.205773\n"
     ]
    }
   ],
   "source": [
    "# Load data\n",
    "df = pd.read_csv('20241107_Orowan_data_DED_probes_L_d.csv')\n",
    "\n",
    "# Apply orowan_stress function for each row in the DataFrame\n",
    "# iterrows(): This iterates over each row in the DataFrame, providing access to each avg_intparticle_dist and avg_dispersoid_diameter\n",
    "orowan_stresses = [ orowan_stress(row['avg_intparticle_dist'], row['avg_dispersoid_diameter']) for _, row in df.iterrows()]\n",
    "\n",
    "# If needed, you can store the results in a DataFrame or dictionary for easy access\n",
    "# You can optionally store the output in a DataFrame for easy reference\n",
    "results_df = pd.DataFrame({\n",
    "    'Probe': [f'P{i+1}_OR' for i in range(len(orowan_stresses))],\n",
    "    'Orowan_Stress': orowan_stresses\n",
    "})\n",
    "\n",
    "print(results_df)"
   ]
  },
  {
   "cell_type": "code",
   "execution_count": null,
   "metadata": {},
   "outputs": [],
   "source": [
    "# Plot\n",
    "\n",
    "fig, ax = simple_plot_init([r'Region',r'Orowan Strengthening (MPa)'], figsize = [4,4], dpi=150)\n",
    "colors = ['red', 'orange', 'green', 'blue', 'purple']\n",
    "\n",
    "ax.bar(range(1, 6), results_df['Orowan_Stress'], tick_label=[\"P1\", \"P2\", \"P3\", \"P4\", \"P5\"], color = colors, edgecolor='black', linewidth=0.7)\n",
    "\n",
    "# edgecolor='black', linewidth=0.7, label = 'Non-aggl. NP')\n",
    "#plt.ylim([9,11.55])\n",
    "\n",
    "# ax.set_yscale('log')\n",
    "plt.xticks(range(1, 6))  # Set major ticks at positions 1 to 5\n",
    "plt.tick_params(axis='x', which='minor', length=0)  \n",
    "\n",
    "#fig.savefig(\"fig_DED_NPT_inclusion_size.pdf\", format=\"pdf\", bbox_inches='tight')\n",
    "\n",
    "print(OR)"
   ]
  },
  {
   "cell_type": "markdown",
   "metadata": {},
   "source": [
    "## Orowan stress (DED): using numerically obatined d and estimated L"
   ]
  },
  {
   "cell_type": "code",
   "execution_count": 8,
   "metadata": {},
   "outputs": [
    {
     "data": {
      "text/html": [
       "<div>\n",
       "<style scoped>\n",
       "    .dataframe tbody tr th:only-of-type {\n",
       "        vertical-align: middle;\n",
       "    }\n",
       "\n",
       "    .dataframe tbody tr th {\n",
       "        vertical-align: top;\n",
       "    }\n",
       "\n",
       "    .dataframe thead th {\n",
       "        text-align: right;\n",
       "    }\n",
       "</style>\n",
       "<table border=\"1\" class=\"dataframe\">\n",
       "  <thead>\n",
       "    <tr style=\"text-align: right;\">\n",
       "      <th></th>\n",
       "      <th>DED_Probes</th>\n",
       "      <th>avg_intparticle_dist</th>\n",
       "      <th>avg_dispersoid_diameter</th>\n",
       "    </tr>\n",
       "  </thead>\n",
       "  <tbody>\n",
       "    <tr>\n",
       "      <th>0</th>\n",
       "      <td>P1</td>\n",
       "      <td>2130.371823</td>\n",
       "      <td>11.271199</td>\n",
       "    </tr>\n",
       "    <tr>\n",
       "      <th>1</th>\n",
       "      <td>P2</td>\n",
       "      <td>3601.153520</td>\n",
       "      <td>11.266468</td>\n",
       "    </tr>\n",
       "    <tr>\n",
       "      <th>2</th>\n",
       "      <td>P3</td>\n",
       "      <td>12.366442</td>\n",
       "      <td>10.876837</td>\n",
       "    </tr>\n",
       "    <tr>\n",
       "      <th>3</th>\n",
       "      <td>P4</td>\n",
       "      <td>5689.627422</td>\n",
       "      <td>10.909848</td>\n",
       "    </tr>\n",
       "    <tr>\n",
       "      <th>4</th>\n",
       "      <td>P5</td>\n",
       "      <td>18.244768</td>\n",
       "      <td>10.872936</td>\n",
       "    </tr>\n",
       "  </tbody>\n",
       "</table>\n",
       "</div>"
      ],
      "text/plain": [
       "  DED_Probes  avg_intparticle_dist  avg_dispersoid_diameter\n",
       "0         P1           2130.371823                11.271199\n",
       "1         P2           3601.153520                11.266468\n",
       "2         P3             12.366442                10.876837\n",
       "3         P4           5689.627422                10.909848\n",
       "4         P5             18.244768                10.872936"
      ]
     },
     "metadata": {},
     "output_type": "display_data"
    }
   ],
   "source": [
    "df = pd.read_csv('20241107_Orowan_data_DED_probes_L_d.csv')\n",
    "display(df)"
   ]
  },
  {
   "cell_type": "code",
   "execution_count": 11,
   "metadata": {},
   "outputs": [
    {
     "name": "stdout",
     "output_type": "stream",
     "text": [
      "   Probe  Orowan_Stress\n",
      "0  P1_OR     354.822747\n",
      "1  P2_OR     354.930512\n",
      "2  P3_OR     364.063937\n",
      "3  P4_OR     363.269743\n",
      "4  P5_OR     364.158045\n"
     ]
    },
    {
     "data": {
      "text/plain": [
       "360.24899670653485"
      ]
     },
     "metadata": {},
     "output_type": "display_data"
    },
    {
     "data": {
      "text/plain": [
       "[99.93629392588544,\n",
       " 99.89434368761331,\n",
       " 96.43967384314531,\n",
       " 96.73236668519576,\n",
       " 96.40508586528217]"
      ]
     },
     "metadata": {},
     "output_type": "display_data"
    },
    {
     "data": {
      "image/png": "[encoded data removed]",
      "text/plain": [
       "<Figure size 600x600 with 1 Axes>"
      ]
     },
     "metadata": {},
     "output_type": "display_data"
    }
   ],
   "source": [
    "# Calculate volume_fraction of NP from weight fraction and densities of the NP and substance\n",
    "wt_frac = 0.005 #0.5%\n",
    "rho_np = 5850 # density of NP ZrO2\n",
    "rho_ss = 7727 # Density of Fe20Cr\n",
    "vol_frac = wt_frac*rho_ss/rho_np\n",
    "# display(vol_frac)\n",
    "\"\"\"\n",
    "Calculate L based on the diameter values for a volume_fraction of NP\n",
    "Use: interparticle_spacing(d_p, v_p)\n",
    "\"\"\"\n",
    "# Read avg inclusion diameter\n",
    "df = pd.read_csv('20241107_Orowan_data_DED_probes_L_d.csv')\n",
    "\n",
    "orowan_stresses = [ orowan_stress(interparticle_spacing(row['avg_dispersoid_diameter'], vol_frac), row['avg_dispersoid_diameter']) for _, row in df.iterrows()]\n",
    "\n",
    "\n",
    "results_df = pd.DataFrame({\n",
    "    'Probe': [f'P{i+1}_OR' for i in range(len(orowan_stresses))],\n",
    "    'Orowan_Stress': orowan_stresses\n",
    "})\n",
    "\n",
    "print(results_df)\n",
    "display(results_df['Orowan_Stress'].mean())\n",
    "L_list = [interparticle_spacing(row['avg_dispersoid_diameter'], vol_frac) for _, row in df.iterrows()]\n",
    "display(L_list)\n",
    "# Plot\n",
    "\n",
    "fig, ax = simple_plot_init([r'Volume element',r'Est. interparticle distance (nm)'], figsize = [4,4], dpi=150)\n",
    "colors = ['red', 'orange', 'green', 'blue', 'purple']\n",
    "tick_DED = [\"$\\mathregular{D_1}$\", \"$\\mathregular{D_2}$\", \"$\\mathregular{D_3}$\", \"$\\mathregular{D_4}$\", \"$\\mathregular{D_5}$\"]\n",
    "ax.bar(range(1, 6), L_list, tick_label=tick_DED, color = colors, edgecolor='black', linewidth=0.7)\n",
    "\n",
    "# edgecolor='black', linewidth=0.7, label = 'Non-aggl. NP')\n",
    "plt.ylim([75,104])\n",
    "\n",
    "# ax.set_yscale('log')\n",
    "plt.xticks(range(1, 6))  # Set major ticks at positions 1 to 5\n",
    "plt.tick_params(axis='x', which='minor', length=0)  \n",
    "fig.savefig(\"fig_DED_est_intpart_dist_VE.pdf\", format=\"pdf\", bbox_inches='tight')"
   ]
  },
  {
   "cell_type": "code",
   "execution_count": 12,
   "metadata": {},
   "outputs": [
    {
     "data": {
      "image/png": "[encoded data removed]",
      "text/plain": [
       "<Figure size 600x600 with 1 Axes>"
      ]
     },
     "metadata": {},
     "output_type": "display_data"
    }
   ],
   "source": [
    "# Plot\n",
    "\n",
    "fig, ax = simple_plot_init([r'Volume element',r'Orowan Strengthening (MPa)'], figsize = [4,4], dpi=150)\n",
    "colors = ['red', 'orange', 'green', 'blue', 'purple']\n",
    "\n",
    "ax.bar(range(1, 6), results_df['Orowan_Stress'], tick_label=tick_DED, color = colors, edgecolor='black', linewidth=0.7)\n",
    "\n",
    "# edgecolor='black', linewidth=0.7, label = 'Non-aggl. NP')\n",
    "#plt.ylim([9,11.55])\n",
    "\n",
    "# ax.set_yscale('log')\n",
    "plt.ylim([300,375])\n",
    "plt.xticks(range(1, 6))  # Set major ticks at positions 1 to 5\n",
    "plt.tick_params(axis='x', which='minor', length=0)  \n",
    "\n",
    "fig.savefig(\"fig_DED_orowan_VE.pdf\", format=\"pdf\", bbox_inches='tight')\n",
    "\n",
    "# print(OR)"
   ]
  },
  {
   "cell_type": "markdown",
   "metadata": {},
   "source": [
    "## Orowan stress (PBF): using numerically obatined d and estimated L"
   ]
  },
  {
   "cell_type": "code",
   "execution_count": 15,
   "metadata": {},
   "outputs": [
    {
     "data": {
      "text/plain": [
       "[208.60901750537607,\n",
       " 217.9638827961977,\n",
       " 159.72535865538453,\n",
       " 165.5121145306694,\n",
       " 109.04093397227179]"
      ]
     },
     "metadata": {},
     "output_type": "display_data"
    },
    {
     "data": {
      "image/png": "[encoded data removed]",
      "text/plain": [
       "<Figure size 600x600 with 1 Axes>"
      ]
     },
     "metadata": {},
     "output_type": "display_data"
    }
   ],
   "source": [
    "# Calculate volume_fraction of NP from weight fraction and densities of the NP and substance\n",
    "wt_frac = 0.005 #0.5%\n",
    "rho_np = 5850 # density of NP ZrO2\n",
    "rho_ss = 7727 # Density of Fe20Cr\n",
    "vol_frac = wt_frac*rho_ss/rho_np\n",
    "# display(vol_frac)\n",
    "\"\"\"\n",
    "Calculate L based on the diameter values for a volume_fraction of NP\n",
    "Use: interparticle_spacing(d_p, v_p)\n",
    "\"\"\"\n",
    "# Read avg inclusion diameter\n",
    "df = pd.read_csv('Orowan_data_PBF_probes_L_d.csv')\n",
    "\n",
    "orowan_stresses = [ orowan_stress(interparticle_spacing(row['avg_dispersoid_diameter'], vol_frac), row['avg_dispersoid_diameter']) for _, row in df.iterrows()]\n",
    "\n",
    "\n",
    "results_df = pd.DataFrame({\n",
    "    'Probe': [f'P{i+1}_OR' for i in range(len(orowan_stresses))],\n",
    "    'Orowan_Stress': orowan_stresses\n",
    "})\n",
    "\n",
    "# print(results_df)\n",
    "# display(results_df['Orowan_Stress'].mean())\n",
    "\n",
    "# Plotting the estimated interparticle distance\n",
    "L_list = [interparticle_spacing(row['avg_dispersoid_diameter'], vol_frac) for _, row in df.iterrows()]\n",
    "display(L_list)\n",
    "# Plot\n",
    "tick_PBF = [\"$\\mathregular{P_1}$\", \"$\\mathregular{P_2}$\", \"$\\mathregular{P_3}$\", \"$\\mathregular{P_4}$\", \"$\\mathregular{P_5}$\"]\n",
    "fig, ax = simple_plot_init([r'Volume element',r'Est. interparticle distance (nm)'], figsize = [4,4], dpi=150)\n",
    "colors = ['red', 'orange', 'green', 'blue', 'purple']\n",
    "\n",
    "ax.bar(range(1, 6), L_list, tick_label=tick_PBF, color = colors, edgecolor='black', linewidth=0.7)\n",
    "\n",
    "# edgecolor='black', linewidth=0.7, label = 'Non-aggl. NP')\n",
    "#plt.ylim([9,11.55])\n",
    "\n",
    "# ax.set_yscale('log')\n",
    "plt.xticks(range(1, 6))  # Set major ticks at positions 1 to 5\n",
    "plt.tick_params(axis='x', which='minor', length=0)  \n",
    "fig.savefig(\"fig_PBF_est_intpart_dist_VE.pdf\", format=\"pdf\", bbox_inches='tight')"
   ]
  },
  {
   "cell_type": "code",
   "execution_count": 16,
   "metadata": {},
   "outputs": [
    {
     "data": {
      "image/png": "[encoded data removed]",
      "text/plain": [
       "<Figure size 600x600 with 1 Axes>"
      ]
     },
     "metadata": {},
     "output_type": "display_data"
    }
   ],
   "source": [
    "# Plot\n",
    "\n",
    "fig, ax = simple_plot_init([r'Volume element',r'Orowan Strengthening (MPa)'], figsize = [4,4], dpi=150)\n",
    "colors = ['red', 'orange', 'green', 'blue', 'purple']\n",
    "\n",
    "ax.bar(range(1, 6), results_df['Orowan_Stress'], tick_label=tick_PBF, color = colors, edgecolor='black', linewidth=0.7)\n",
    "\n",
    "# edgecolor='black', linewidth=0.7, label = 'Non-aggl. NP')\n",
    "#plt.ylim([9,11.55])\n",
    "\n",
    "# ax.set_yscale('log')\n",
    "plt.xticks(range(1, 6))  # Set major ticks at positions 1 to 5\n",
    "plt.tick_params(axis='x', which='minor', length=0)  \n",
    "\n",
    "#fig.savefig(\"fig_DED_NPT_inclusion_size.pdf\", format=\"pdf\", bbox_inches='tight')\n",
    "fig.savefig(\"fig_PBF_orowan_VE.pdf\", format=\"pdf\", bbox_inches='tight')\n",
    "\n",
    "# print(OR)"
   ]
  },
  {
   "cell_type": "code",
   "execution_count": 15,
   "metadata": {},
   "outputs": [
    {
     "data": {
      "text/plain": [
       "0.3386510374755325"
      ]
     },
     "metadata": {},
     "output_type": "display_data"
    }
   ],
   "source": [
    "# Data from Y.-K.Kim et al 2021 (https://doi.org/10.1016/j.compositesb.2021.108638)\n",
    "M = 3.063\n",
    "nu = 0.26\n",
    "G = 80.85\n",
    "b = 0.255\n",
    "d_p = 25.8\n",
    "v_p = 0.0228\n",
    "L = interparticle_spacing(d_p, v_p)\n",
    "\n",
    "sig_or = orowan_stress(M, nu, G, b, L, d_p)\n",
    "display(sig_or)"
   ]
  },
  {
   "cell_type": "code",
   "execution_count": 24,
   "metadata": {},
   "outputs": [],
   "source": [
    "def interparticle_spacing(avg_diameter, vol_frac): \n",
    "    \"\"\"\n",
    "    To calculate the interparticle spacing (L) with the given: \n",
    "        1. Avg_diameter: average diameter of the particles (d_p)\n",
    "        2. vol_frac: volume fraction of the particles (v_p)\n",
    "    \"\"\"\n",
    "    L = np.sqrt(2/3) * avg_diameter * np.sqrt((np.pi/(4*vol_frac))-1)\n",
    "    return L\n",
    "\n",
    "def orowan_stress(M, nu, G, b, L, d_p):\n",
    "    \"\"\"\n",
    "    To calculate Orowan stress using the following inputs:\n",
    "        1. M : Taylor factor\n",
    "        2. nu: Poisson's ratio\n",
    "        3. G : Shear modulus\n",
    "        4. b : Burgers vector\n",
    "        5. L : interparticle spacing\n",
    "        6. d_p: Avg particle diameter\n",
    "    \"\"\"\n",
    "    sig_or = (0.4* M/(np.pi*np.sqrt(1-nu)))*(G*b/L)*np.log((np.sqrt(2/3)*d_p)/b)\n",
    "    return sig_or"
   ]
  },
  {
   "cell_type": "code",
   "execution_count": 25,
   "metadata": {},
   "outputs": [
    {
     "data": {
      "text/plain": [
       "0.3386510374755325"
      ]
     },
     "metadata": {},
     "output_type": "display_data"
    }
   ],
   "source": [
    "M = 3.063\n",
    "nu = 0.26\n",
    "G = 80.85\n",
    "b = 0.255\n",
    "d_p = 25.8\n",
    "v_p = 0.0228\n",
    "L = interparticle_spacing(d_p, v_p)\n",
    "\n",
    "sig_or = orowan_stress(M, nu, G, b, L, d_p)\n",
    "display(sig_or)"
   ]
  },
  {
   "cell_type": "markdown",
   "metadata": {},
   "source": [
    "## Orowan stress with varying avg particle diameter"
   ]
  },
  {
   "cell_type": "code",
   "execution_count": 42,
   "metadata": {},
   "outputs": [
    {
     "data": {
      "text/plain": [
       "[<matplotlib.lines.Line2D at 0x119025fd0>]"
      ]
     },
     "execution_count": 42,
     "metadata": {},
     "output_type": "execute_result"
    },
    {
     "data": {
      "image/png": "[encoded data removed]",
      "text/plain": [
       "<Figure size 640x480 with 1 Axes>"
      ]
     },
     "metadata": {},
     "output_type": "display_data"
    }
   ],
   "source": [
    "d_p = np.linspace(1,40,1000)\n",
    "L = lambda d_p: interparticle_spacing(d_p, v_p)\n",
    "\n",
    "sig_or = lambda d_p: orowan_stress(M, nu, G, b, L(d_p), d_p)\n",
    "\n",
    "import matplotlib.pyplot as plt\n",
    "plt.plot(d_p, sig_or(d_p))"
   ]
  },
  {
   "cell_type": "code",
   "execution_count": 75,
   "metadata": {},
   "outputs": [
    {
     "name": "stdout",
     "output_type": "stream",
     "text": [
      "1.000466537174974\n"
     ]
    }
   ],
   "source": [
    "# Find x values where y is closest to 1.0\n",
    "indices = np.where(np.isclose(sig_or(d_p), 1.0))\n",
    "x_values_at_y_1 = d_p[indices]\n",
    "\n",
    "print(sig_or(5.77))"
   ]
  }
 ],
 "metadata": {
  "kernelspec": {
   "display_name": "base",
   "language": "python",
   "name": "python3"
  },
  "language_info": {
   "codemirror_mode": {
    "name": "ipython",
    "version": 3
   },
   "file_extension": ".py",
   "mimetype": "text/x-python",
   "name": "python",
   "nbconvert_exporter": "python",
   "pygments_lexer": "ipython3",
   "version": "3.11.7"
  }
 },
 "nbformat": 4,
 "nbformat_minor": 2
}
